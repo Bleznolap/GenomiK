{
  "cells": [
    {
      "cell_type": "raw",
      "metadata": {},
      "source": [
        "---\n",
        "title: \"Welcome To My Blog\"\n",
        "#author: \"Blessing- The Christian\"\n",
        "#date: \"2024-06-08\"\n",
        "categories: [news]\n",
        "---"
      ],
      "id": "d9cf3dcb"
    },
    {
      "cell_type": "markdown",
      "metadata": {},
      "source": [
        "```{css, echo = FALSE}\n",
        ".justify {\n",
        "  text-align: justify !important\n",
        "}\n",
        "```\n",
        "\n",
        "\n",
        "\n",
        "![](thumbnail.jpg)\n",
        "This is the first post in a Quarto blog. Welcome!\n",
        "\n",
        ":::{.justify}\n",
        "I created this blog on the 8th of June 2024 (circa 2 AM) after ending a Monthly Friday vigil. I have had this thought of creating a blog during the week to express my thoughts about things, especially science. So, I got inspiration reading [Meghan Hall's post](https://meghan.rbind.io/blog/2024-02-11-moving-to-quarto/) how she switched to Quarto. That's how I read a few posts, including [Philipp's](https://www.philippkollenda.com/posts/qp2022-08-05_my-first-website/) and watched a few YT videos on how to get started although I had once started a website with Quarto but abandoned it and I have a Google site already. This is just for blogging and journaling.\n",
        ":::\n",
        "\n",
        "----\n",
        "![](welcome.jpeg){fig-align=\"center\"}"
      ],
      "id": "b3cb71dc"
    }
  ],
  "metadata": {
    "kernelspec": {
      "display_name": "Python 3",
      "language": "python",
      "name": "python3"
    }
  },
  "nbformat": 4,
  "nbformat_minor": 5
}