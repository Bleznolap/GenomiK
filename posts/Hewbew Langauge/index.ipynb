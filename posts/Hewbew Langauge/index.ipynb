{
  "cells": [
    {
      "cell_type": "raw",
      "metadata": {},
      "source": [
        "---\n",
        "title: \"Hebrew Language\"\n",
        "author: \"Blessing- The Christian\"\n",
        "date: \"2024-06-08\"\n",
        "categories: [Language]\n",
        "image: \"HBRW.png\"\n",
        "---"
      ],
      "id": "532a0bb1"
    },
    {
      "cell_type": "markdown",
      "metadata": {},
      "source": [
        "![](Preview.png)\n",
        "\n",
        "```{css, echo = FALSE}\n",
        ".justify {\n",
        "  text-align: justify !important\n",
        "}\n",
        "```\n",
        "\n",
        "\n",
        ":::{.justify}\n",
        "\n",
        "I had an interesting experience today during my devotion. It never occurred to me that the Hebrew language is read from right to left (similar to Arabic). As I was reading the translation in English, it wasn't making sense reading the transliteration from left to right until I became curious moving right and left to verses. Upon painstaking attentiveness, I caught that the best way to read it is right to left and not the other way around. I was wowed! as it began to make sense in reading. Swiftly, I headed to Google and as I began to type \"is hebrew read\", autofill cam handy \"is hebrew read from right to left\" and I clicked enter.\n",
        "\n",
        "Oh mine! I learnt something new today.\n",
        "\n",
        ":::"
      ],
      "id": "c3f5bf09"
    }
  ],
  "metadata": {
    "kernelspec": {
      "display_name": "Python 3",
      "language": "python",
      "name": "python3"
    }
  },
  "nbformat": 4,
  "nbformat_minor": 5
}